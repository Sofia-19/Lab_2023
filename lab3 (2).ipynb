{
 "cells": [
  {
   "cell_type": "code",
   "execution_count": 28,
   "id": "e3092b1e",
   "metadata": {},
   "outputs": [],
   "source": [
    "import numpy as np"
   ]
  },
  {
   "cell_type": "code",
   "execution_count": 29,
   "id": "1669fc66",
   "metadata": {},
   "outputs": [],
   "source": [
    "K = [1,2]#стани\n",
    "\n",
    "#можливі значеня мат. спод.\n",
    "A1 = [0,1]#при к1\n",
    "A2 = [2,3]#при к2\n",
    "\n",
    "p_k1 = 1/3 #ймовірність  к1\n",
    "p_k2 = 2/3 #ймовірність  к2\n",
    "\n",
    "#реальні значення мат. спод. \n",
    "a1_real = 0\n",
    "a2_real = 3"
   ]
  },
  {
   "cell_type": "code",
   "execution_count": 87,
   "id": "166923ce",
   "metadata": {},
   "outputs": [],
   "source": [
    "n = 100\n",
    "\n",
    "# Генеруємо випадкові величини з мішаного нормального розподілу\n",
    "X = np.random.choice([a1_real, a2_real], size=n, p=[p_k1, p_k2]) + np.random.normal(loc=0.0, scale=1.0, size=n)"
   ]
  },
  {
   "cell_type": "code",
   "execution_count": 88,
   "id": "690302cc",
   "metadata": {},
   "outputs": [
    {
     "name": "stderr",
     "output_type": "stream",
     "text": [
      "C:\\Users\\Sofi\\opencv\\lib\\site-packages\\seaborn\\distributions.py:2619: FutureWarning: `distplot` is a deprecated function and will be removed in a future version. Please adapt your code to use either `displot` (a figure-level function with similar flexibility) or `kdeplot` (an axes-level function for kernel density plots).\n",
      "  warnings.warn(msg, FutureWarning)\n"
     ]
    },
    {
     "data": {
      "image/png": "[encoded data removed]",
      "text/plain": [
       "<Figure size 432x288 with 1 Axes>"
      ]
     },
     "metadata": {
      "needs_background": "light"
     },
     "output_type": "display_data"
    }
   ],
   "source": [
    "import matplotlib.pyplot as plt\n",
    "import seaborn as sns\n",
    "\n",
    "sns.distplot(X, hist=False)\n",
    "\n",
    "plt.show()"
   ]
  },
  {
   "cell_type": "code",
   "execution_count": 89,
   "id": "9eda2076",
   "metadata": {},
   "outputs": [],
   "source": [
    "#Стартові значення\n",
    "\n",
    "p1 = 0.5\n",
    "p2 = 0.5\n",
    "\n",
    "a1 = 1\n",
    "a2 = 2"
   ]
  },
  {
   "cell_type": "code",
   "execution_count": 90,
   "id": "70fc32f7",
   "metadata": {},
   "outputs": [],
   "source": [
    "import math\n",
    "\n",
    "def f(x,a):\n",
    "    return ((math.exp(-(((x-a)**2)/2)))/np.sqrt(2*math.pi))"
   ]
  },
  {
   "cell_type": "code",
   "execution_count": 91,
   "id": "874e26d0",
   "metadata": {},
   "outputs": [],
   "source": [
    "def At(A, ati):\n",
    "    res = [sum([ati[i]*np.log(f(X[i],a)) for i in range(len(X))]) for a in A]\n",
    "    print(res)\n",
    "    return A[np.argmax(res)]"
   ]
  },
  {
   "cell_type": "code",
   "execution_count": 94,
   "id": "0ae0abb4",
   "metadata": {},
   "outputs": [],
   "source": [
    "#Алгоритм самонавчання\n",
    "\n",
    "def self_learning(a1,a2,p1,p2):\n",
    "    at1 = [(p1*f(X[i],a1))/(p1*f(X[i],a1)+p2*f(X[i],a2)) for i in range(len(X))]                   \n",
    "    at2 = [(p2*f(X[i],a2))/(p1*f(X[i],a1)+p2*f(X[i],a2)) for i in range(len(X))]  \n",
    "\n",
    "    p1_1 = sum(at1)/len(X)\n",
    "    p2_1 = sum(at2)/len(X)\n",
    "\n",
    "    a1_1 = At([0,1], at1) #a={0,1}\n",
    "    a2_1 = At([2,3], at2) #a={2,3}\n",
    "    \n",
    "    print(\"a1: \",a1, \"a1_1: \",a1_1,\"\\na2: \",a2, \"a2_1: \",a2_1, \"\\np1: \", p1, \"p1_1: \", p1_1, \"\\nabs(p1_1-p1): \",abs(p1_1-p1), \"\\np2: \", p2, \"p2_1: \", p2_1,\"\\nabs(p2_1-p2)\",abs(p2_1-p2))\n",
    "\n",
    "    if a1_1==a1 and a2_1==a2 and abs(p1_1-p1)<0.001 and abs(p2_1-p2)<0.001:\n",
    "        print(\"Stop algorithm\")\n",
    "        return \n",
    "    else:\n",
    "        print(\"continue\")\n",
    "        a1 = a1_1\n",
    "        a2 = a2_1\n",
    "        p1 = p1_1\n",
    "        p2 = p2_1\n",
    "        self_learning(a1,a2,p1,p2)"
   ]
  },
  {
   "cell_type": "code",
   "execution_count": 95,
   "id": "66713edc",
   "metadata": {},
   "outputs": [
    {
     "name": "stdout",
     "output_type": "stream",
     "text": [
      "[-92.77066948105035, -82.47323882990847]\n",
      "[-127.32753074730718, -98.71366187870639]\n",
      "a1:  1 a1_1:  1 \n",
      "a2:  2 a2_1:  3 \n",
      "p1:  0.5 p1_1:  0.3852840880561178 \n",
      "abs(p1_1-p1):  0.1147159119438822 \n",
      "p2:  0.5 p2_1:  0.614715911943882 \n",
      "abs(p2_1-p2) 0.11471591194388198\n",
      "continue\n",
      "[-67.90299266527468, -71.87902878530062]\n",
      "[-123.12091718108297, -79.1788678619859]\n",
      "a1:  1 a1_1:  0 \n",
      "a2:  3 a2_1:  3 \n",
      "p1:  0.3852840880561178 p1_1:  0.39055765645275925 \n",
      "abs(p1_1-p1):  0.005273568396641448 \n",
      "p2:  0.614715911943882 p2_1:  0.6094423435472407 \n",
      "abs(p2_1-p2) 0.005273568396641282\n",
      "continue\n",
      "[-45.17155459060338, -59.940437790861736]\n",
      "[-129.94449212464642, -86.5652577840311]\n",
      "a1:  0 a1_1:  0 \n",
      "a2:  3 a2_1:  3 \n",
      "p1:  0.39055765645275925 p1_1:  0.3337793461591889 \n",
      "abs(p1_1-p1):  0.05677831029357033 \n",
      "p2:  0.6094423435472407 p2_1:  0.6662206538408111 \n",
      "abs(p2_1-p2) 0.05677831029357039\n",
      "continue\n",
      "[-43.33661859627918, -58.83248638784899]\n",
      "[-131.237808483886, -88.95628864703545]\n",
      "a1:  0 a1_1:  0 \n",
      "a2:  3 a2_1:  3 \n",
      "p1:  0.3337793461591889 p1_1:  0.3246558506838074 \n",
      "abs(p1_1-p1):  0.009123495475381493 \n",
      "p2:  0.6662206538408111 p2_1:  0.6753441493161926 \n",
      "abs(p2_1-p2) 0.009123495475381493\n",
      "continue\n",
      "[-43.039271847324244, -58.64876780964672]\n",
      "[-131.46202475075265, -89.37512846198379]\n",
      "a1:  0 a1_1:  0 \n",
      "a2:  3 a2_1:  3 \n",
      "p1:  0.3246558506838074 p1_1:  0.32311459208963605 \n",
      "abs(p1_1-p1):  0.0015412585941713686 \n",
      "p2:  0.6753441493161926 p2_1:  0.6768854079103638 \n",
      "abs(p2_1-p2) 0.001541258594171202\n",
      "continue\n",
      "[-42.98890247965925, -58.617519533768125]\n",
      "[-131.5004407417988, -89.4470009751513]\n",
      "a1:  0 a1_1:  0 \n",
      "a2:  3 a2_1:  3 \n",
      "p1:  0.32311459208963605 p1_1:  0.3228517040200968 \n",
      "abs(p1_1-p1):  0.0002628880695392799 \n",
      "p2:  0.6768854079103638 p2_1:  0.6771482959799033 \n",
      "abs(p2_1-p2) 0.00026288806953955746\n",
      "Stop algorithm\n"
     ]
    }
   ],
   "source": [
    "self_learning(a1,a2,p1,p2)"
   ]
  },
  {
   "cell_type": "code",
   "execution_count": null,
   "id": "5940313c",
   "metadata": {},
   "outputs": [],
   "source": []
  },
  {
   "cell_type": "code",
   "execution_count": null,
   "id": "a3615f50",
   "metadata": {},
   "outputs": [],
   "source": []
  }
 ],
 "metadata": {
  "kernelspec": {
   "display_name": "Python 3 (ipykernel)",
   "language": "python",
   "name": "python3"
  },
  "language_info": {
   "codemirror_mode": {
    "name": "ipython",
    "version": 3
   },
   "file_extension": ".py",
   "mimetype": "text/x-python",
   "name": "python",
   "nbconvert_exporter": "python",
   "pygments_lexer": "ipython3",
   "version": "3.10.0"
  }
 },
 "nbformat": 4,
 "nbformat_minor": 5
}
