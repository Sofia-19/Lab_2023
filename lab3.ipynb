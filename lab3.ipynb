{
 "cells": [
  {
   "cell_type": "code",
   "execution_count": 115,
   "id": "e3092b1e",
   "metadata": {},
   "outputs": [],
   "source": [
    "import numpy as np"
   ]
  },
  {
   "cell_type": "code",
   "execution_count": 116,
   "id": "1669fc66",
   "metadata": {},
   "outputs": [],
   "source": [
    "K = [1,2]#стани\n",
    "\n",
    "#можливі значеня мат. спод.\n",
    "A1 = [0,1]#при к1\n",
    "A2 = [2,3]#при к2\n",
    "\n",
    "p_k1 = 1/3 #ймовірність  к1\n",
    "p_k2 = 2/3 #ймовірність  к2\n",
    "\n",
    "#реальні значення мат. спод. \n",
    "a1_real = 0\n",
    "a2_real = 3"
   ]
  },
  {
   "cell_type": "code",
   "execution_count": 117,
   "id": "71f1d076",
   "metadata": {},
   "outputs": [],
   "source": [
    "n = 100\n",
    "\n",
    "# Генеруємо випадкові величини з мішаного нормального розподілу\n",
    "X = np.random.choice([a1_real, a2_real], size=n, p=[p_k1, p_k2]) + np.random.normal(loc=0.0, scale=1.0, size=n)"
   ]
  },
  {
   "cell_type": "code",
   "execution_count": 118,
   "id": "690302cc",
   "metadata": {},
   "outputs": [
    {
     "name": "stderr",
     "output_type": "stream",
     "text": [
      "C:\\Users\\Sofi\\opencv\\lib\\site-packages\\seaborn\\distributions.py:2619: FutureWarning: `distplot` is a deprecated function and will be removed in a future version. Please adapt your code to use either `displot` (a figure-level function with similar flexibility) or `kdeplot` (an axes-level function for kernel density plots).\n",
      "  warnings.warn(msg, FutureWarning)\n"
     ]
    },
    {
     "data": {
      "image/png": "[encoded data removed]",
      "text/plain": [
       "<Figure size 432x288 with 1 Axes>"
      ]
     },
     "metadata": {
      "needs_background": "light"
     },
     "output_type": "display_data"
    }
   ],
   "source": [
    "import matplotlib.pyplot as plt\n",
    "import seaborn as sns\n",
    "\n",
    "sns.distplot(X, hist=False)\n",
    "\n",
    "plt.show()"
   ]
  },
  {
   "cell_type": "code",
   "execution_count": 119,
   "id": "9eda2076",
   "metadata": {},
   "outputs": [],
   "source": [
    "#Стартові значення\n",
    "\n",
    "p1 = 0.5\n",
    "p2 = 0.5\n",
    "\n",
    "a1 = 1\n",
    "a2 = 2"
   ]
  },
  {
   "cell_type": "code",
   "execution_count": 120,
   "id": "70fc32f7",
   "metadata": {},
   "outputs": [],
   "source": [
    "import math\n",
    "\n",
    "def f(x,a):\n",
    "    return ((math.exp(-(((x-a)**2)/2)))/np.sqrt(2*math.pi))"
   ]
  },
  {
   "cell_type": "code",
   "execution_count": 121,
   "id": "874e26d0",
   "metadata": {},
   "outputs": [],
   "source": [
    "def L(A, Li):\n",
    "    L_res = [sum([Li[i]*np.log(f(X[i],a)) for i in range(len(X))]) for a in A]\n",
    "    print(L_res)\n",
    "    return A[np.argmax(L_res)]"
   ]
  },
  {
   "cell_type": "code",
   "execution_count": 122,
   "id": "0ae0abb4",
   "metadata": {},
   "outputs": [],
   "source": [
    "#Алгоритм самонавчання\n",
    "\n",
    "def self_learning(a1,a2,p1,p2):\n",
    "    L1 = [(p1*f(X[i],a1))/(p1*f(X[i],a1)+p2*f(X[i],a2)) for i in range(len(X))]                   \n",
    "    L2 = [(p2*f(X[i],a2))/(p1*f(X[i],a1)+p2*f(X[i],a2)) for i in range(len(X))]  \n",
    "\n",
    "    p1_1 = sum(L1)/len(X)\n",
    "    p2_1 = sum(L2)/len(X)\n",
    "\n",
    "    a1_1 = L([0,1], L1) #a={0,1}\n",
    "    a2_1 = L([2,3], L2) #a={2,3}\n",
    "    \n",
    "    print(\"a1: \",a1, \"a1_1: \",a1_1,\"\\na2: \",a2, \"a2_1: \",a2_1, \"\\np1: \", p1, \"p1_1: \", p1_1, \"\\nabs(p1_1-p1): \",abs(p1_1-p1), \"\\np2: \", p2, \"p2_1: \", p2_1,\"\\nabs(p2_1-p2)\",abs(p2_1-p2))\n",
    "\n",
    "    if a1_1==a1 and a2_1==a2 and abs(p1_1-p1)<0.001 and abs(p2_1-p2)<0.001:\n",
    "        print(\"Stop algoritm\")\n",
    "        return \n",
    "    else:\n",
    "        print(\"continue\")\n",
    "        a1 = a1_1\n",
    "        a2 = a2_1\n",
    "        p1 = p1_1\n",
    "        p2 = p2_1\n",
    "        self_learning(a1,a2,p1,p2)"
   ]
  },
  {
   "cell_type": "code",
   "execution_count": 123,
   "id": "66713edc",
   "metadata": {},
   "outputs": [
    {
     "name": "stdout",
     "output_type": "stream",
     "text": [
      "[-92.23330174228916, -87.70257765250294]\n",
      "[-148.76101099072136, -110.3898016574455]\n",
      "a1:  1 a1_1:  1 \n",
      "a2:  2 a2_1:  3 \n",
      "p1:  0.5 p1_1:  0.38871583962672085 \n",
      "abs(p1_1-p1):  0.11128416037327915 \n",
      "p2:  0.5 p2_1:  0.6112841603732794 \n",
      "abs(p2_1-p2) 0.11128416037327937\n",
      "continue\n",
      "[-69.7477201149651, -78.49203463552865]\n",
      "[-143.96824091275238, -90.86544399993959]\n",
      "a1:  1 a1_1:  0 \n",
      "a2:  3 a2_1:  3 \n",
      "p1:  0.38871583962672085 p1_1:  0.39599858447265673 \n",
      "abs(p1_1-p1):  0.0072827448459358846 \n",
      "p2:  0.6112841603732794 p2_1:  0.6040014155273435 \n",
      "abs(p2_1-p2) 0.007282744845935829\n",
      "continue\n",
      "[-47.290670005712336, -66.84516406145725]\n",
      "[-150.5201922091451, -98.03773627615652]\n",
      "a1:  0 a1_1:  0 \n",
      "a2:  3 a2_1:  3 \n",
      "p1:  0.39599858447265673 p1_1:  0.33884598189762855 \n",
      "abs(p1_1-p1):  0.05715260257502819 \n",
      "p2:  0.6040014155273435 p2_1:  0.6611540181023713 \n",
      "abs(p2_1-p2) 0.057152602575027744\n",
      "continue\n",
      "[-45.52866576395331, -65.80162039893057]\n",
      "[-151.67755308255562, -100.14119215056698]\n",
      "a1:  0 a1_1:  0 \n",
      "a2:  3 a2_1:  3 \n",
      "p1:  0.33884598189762855 p1_1:  0.3305232039964674 \n",
      "abs(p1_1-p1):  0.008322777901161149 \n",
      "p2:  0.6611540181023713 p2_1:  0.6694767960035328 \n",
      "abs(p2_1-p2) 0.008322777901161538\n",
      "continue\n",
      "[-45.272719540507545, -65.64657361290222]\n",
      "[-151.8579626967032, -100.47322685837038]\n",
      "a1:  0 a1_1:  0 \n",
      "a2:  3 a2_1:  3 \n",
      "p1:  0.3305232039964674 p1_1:  0.3292605813411014 \n",
      "abs(p1_1-p1):  0.0012626226553659747 \n",
      "p2:  0.6694767960035328 p2_1:  0.6707394186588986 \n",
      "abs(p2_1-p2) 0.0012626226553658082\n",
      "continue\n",
      "[-45.23385626488414, -65.62294609985398]\n",
      "[-151.88565153618956, -100.52427411330792]\n",
      "a1:  0 a1_1:  0 \n",
      "a2:  3 a2_1:  3 \n",
      "p1:  0.3292605813411014 p1_1:  0.32906761045096894 \n",
      "abs(p1_1-p1):  0.00019297089013248225 \n",
      "p2:  0.6707394186588986 p2_1:  0.670932389549031 \n",
      "abs(p2_1-p2) 0.00019297089013237123\n",
      "Stop algoritm\n"
     ]
    }
   ],
   "source": [
    "self_learning(a1,a2,p1,p2)"
   ]
  },
  {
   "cell_type": "code",
   "execution_count": null,
   "id": "4465c493",
   "metadata": {},
   "outputs": [],
   "source": []
  }
 ],
 "metadata": {
  "kernelspec": {
   "display_name": "Python 3 (ipykernel)",
   "language": "python",
   "name": "python3"
  },
  "language_info": {
   "codemirror_mode": {
    "name": "ipython",
    "version": 3
   },
   "file_extension": ".py",
   "mimetype": "text/x-python",
   "name": "python",
   "nbconvert_exporter": "python",
   "pygments_lexer": "ipython3",
   "version": "3.10.0"
  }
 },
 "nbformat": 4,
 "nbformat_minor": 5
}
